{
 "cells": [
  {
   "cell_type": "code",
   "execution_count": 5,
   "id": "992a64a4",
   "metadata": {},
   "outputs": [
    {
     "name": "stdout",
     "output_type": "stream",
     "text": [
      "61\n"
     ]
    }
   ],
   "source": [
    "#1.Write a Python program to find sum of elements in list?\n",
    "\n",
    "l=[1,12,14,16,18]\n",
    "sum=0\n",
    "for i in range(0,len(l)):\n",
    "    sum=sum+l[i]\n",
    "    \n",
    "print(sum)"
   ]
  },
  {
   "cell_type": "code",
   "execution_count": 6,
   "id": "2201ae00",
   "metadata": {},
   "outputs": [
    {
     "name": "stdout",
     "output_type": "stream",
     "text": [
      "26880\n"
     ]
    }
   ],
   "source": [
    "#2.Write a Python program to  Multiply all numbers in the list?\n",
    "\n",
    "l=[2,4,6,7,8,10]\n",
    "product=1\n",
    "for i in l:\n",
    "    product=product*i\n",
    "print(product)\n",
    "    \n",
    "    "
   ]
  },
  {
   "cell_type": "code",
   "execution_count": 7,
   "id": "7b8f198f",
   "metadata": {},
   "outputs": [
    {
     "name": "stdout",
     "output_type": "stream",
     "text": [
      "2\n"
     ]
    }
   ],
   "source": [
    "#3.Write a Python program to find smallest number in a list?\n",
    "\n",
    "l=[13,23,34,78,90,2,9]\n",
    "s=min(l)\n",
    "print(s)"
   ]
  },
  {
   "cell_type": "code",
   "execution_count": 8,
   "id": "f99400ce",
   "metadata": {},
   "outputs": [
    {
     "name": "stdout",
     "output_type": "stream",
     "text": [
      "90\n"
     ]
    }
   ],
   "source": [
    "#4.Write a Python program to find largest number in a list?\n",
    "\n",
    "l=[13,23,34,78,90,2,9]\n",
    "L=max(l)\n",
    "print(L)"
   ]
  },
  {
   "cell_type": "code",
   "execution_count": 9,
   "id": "f3da4f7d",
   "metadata": {},
   "outputs": [
    {
     "name": "stdout",
     "output_type": "stream",
     "text": [
      "second largest number of list: 78\n"
     ]
    }
   ],
   "source": [
    "#5.Write a Python program to find second largest number in a list?\n",
    "\n",
    "l=[13,23,34,78,90,2,9]\n",
    "l.sort()\n",
    "print(\"second largest number of list:\",l[-2])"
   ]
  },
  {
   "cell_type": "code",
   "execution_count": 10,
   "id": "3d91e20d",
   "metadata": {},
   "outputs": [
    {
     "name": "stdout",
     "output_type": "stream",
     "text": [
      "[23, 34, 78, 90]\n"
     ]
    }
   ],
   "source": [
    "#6.Write a Python program to find N largest elements from a list?\n",
    "\n",
    "l=[13,23,34,78,90,2,9]\n",
    "n=4\n",
    "l.sort()\n",
    "print(l[-n:])"
   ]
  },
  {
   "cell_type": "code",
   "execution_count": 11,
   "id": "575fe7db",
   "metadata": {},
   "outputs": [
    {
     "name": "stdout",
     "output_type": "stream",
     "text": [
      "10\n",
      "4\n",
      "66\n"
     ]
    }
   ],
   "source": [
    "#7.Write a Python program to print even numbers in a list?\n",
    "\n",
    "l=[10, 21, 4, 45, 66, 93]\n",
    "for i in l:\n",
    "    if i%2==0:\n",
    "        print(i)\n"
   ]
  },
  {
   "cell_type": "code",
   "execution_count": 12,
   "id": "37af910b",
   "metadata": {},
   "outputs": [
    {
     "name": "stdout",
     "output_type": "stream",
     "text": [
      "21\n",
      "45\n",
      "93\n"
     ]
    }
   ],
   "source": [
    "#8.Write a Python program to print odd numbers in a List?\n",
    "\n",
    "l=[10, 21, 4, 45, 66, 93]\n",
    "for i in l:\n",
    "    if i%2==1:\n",
    "        print(i)"
   ]
  },
  {
   "cell_type": "code",
   "execution_count": 15,
   "id": "0b2e844c",
   "metadata": {},
   "outputs": [
    {
     "name": "stdout",
     "output_type": "stream",
     "text": [
      "10\n",
      "21\n",
      "12\n",
      "45\n",
      "36\n",
      "93\n",
      "87\n",
      "40\n"
     ]
    }
   ],
   "source": [
    "#9.Write a Python program to Remove empty List from List?\n",
    "\n",
    "l=[10, 21,[], 12, 45,[], 36, 93,[],87,40]\n",
    "for i in l:\n",
    "    if i !=[]:\n",
    "        print(i)\n"
   ]
  },
  {
   "cell_type": "code",
   "execution_count": 16,
   "id": "a92ecc71",
   "metadata": {},
   "outputs": [
    {
     "name": "stdout",
     "output_type": "stream",
     "text": [
      "[10, 21, 4, 45, 66, 93]\n",
      "[10, 21, 4, 45, 66, 93]\n"
     ]
    }
   ],
   "source": [
    "#10.Write a Python program to Cloning or Copying a list?\n",
    "l=[10, 21, 4, 45, 66, 93]\n",
    "l_copy=list(l)\n",
    "print(l)\n",
    "print(l_copy)\n"
   ]
  },
  {
   "cell_type": "code",
   "execution_count": 17,
   "id": "909f9f4d",
   "metadata": {},
   "outputs": [
    {
     "data": {
      "text/plain": [
       "3"
      ]
     },
     "execution_count": 17,
     "metadata": {},
     "output_type": "execute_result"
    }
   ],
   "source": [
    "#11.Write a Python program to Count occurrences of an element in a list?\n",
    "\n",
    "l=[1,2,3,2,3,5,2,5,6]\n",
    "l.count(2)"
   ]
  },
  {
   "cell_type": "code",
   "execution_count": null,
   "id": "1be5dd71",
   "metadata": {},
   "outputs": [],
   "source": []
  }
 ],
 "metadata": {
  "kernelspec": {
   "display_name": "Python 3 (ipykernel)",
   "language": "python",
   "name": "python3"
  },
  "language_info": {
   "codemirror_mode": {
    "name": "ipython",
    "version": 3
   },
   "file_extension": ".py",
   "mimetype": "text/x-python",
   "name": "python",
   "nbconvert_exporter": "python",
   "pygments_lexer": "ipython3",
   "version": "3.9.7"
  }
 },
 "nbformat": 4,
 "nbformat_minor": 5
}

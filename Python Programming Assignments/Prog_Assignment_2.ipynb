{
 "cells": [
  {
   "cell_type": "code",
   "execution_count": 1,
   "id": "14fc7a37",
   "metadata": {},
   "outputs": [
    {
     "name": "stdout",
     "output_type": "stream",
     "text": [
      "enter the no.3.7\n",
      "conversion in miles 2.2990727\n"
     ]
    }
   ],
   "source": [
    "#1.Write a Python program to convert kilometers to miles?\n",
    "\n",
    "a=float(input(\"enter the no.\"))\n",
    "#conversion factor\n",
    "b=0.621371\n",
    "\n",
    "#conv in miles\n",
    "d=a*b\n",
    "print(\"conversion in miles\",d)\n"
   ]
  },
  {
   "cell_type": "code",
   "execution_count": 4,
   "id": "9a9f34b2",
   "metadata": {},
   "outputs": [
    {
     "name": "stdout",
     "output_type": "stream",
     "text": [
      "38.00 celsius is equivalent to 100.40 fahrenheit\n"
     ]
    }
   ],
   "source": [
    "#2.Write a Python program to convert Celsius to Fahrenheit?\n",
    "\n",
    "celsius=38\n",
    "#formula for conversion to fahrenheit\n",
    "\n",
    "fahrenheit=(celsius * 1.8)+32\n",
    "print(\"%0.2f celsius is equivalent to %0.2f fahrenheit\"%(celsius,fahrenheit))\n"
   ]
  },
  {
   "cell_type": "code",
   "execution_count": 6,
   "id": "b79b69ae",
   "metadata": {},
   "outputs": [
    {
     "name": "stdout",
     "output_type": "stream",
     "text": [
      "      May 2022\n",
      "Mo Tu We Th Fr Sa Su\n",
      "                   1\n",
      " 2  3  4  5  6  7  8\n",
      " 9 10 11 12 13 14 15\n",
      "16 17 18 19 20 21 22\n",
      "23 24 25 26 27 28 29\n",
      "30 31\n",
      "\n"
     ]
    }
   ],
   "source": [
    "#3.Write a Python program to display calendar?\n",
    "import calendar\n",
    "yy=2022\n",
    "mm=5\n",
    "print(calendar.month(yy,mm))"
   ]
  },
  {
   "cell_type": "code",
   "execution_count": 8,
   "id": "b7d82b0d",
   "metadata": {},
   "outputs": [
    {
     "name": "stdout",
     "output_type": "stream",
     "text": [
      "the two roots of equation ((-2-2j), (-2+2j))\n"
     ]
    }
   ],
   "source": [
    "#4.Write a Python program to solve quadratic equation?\n",
    "#import complex math module\n",
    "\n",
    "import cmath\n",
    "a=1\n",
    "b=4\n",
    "c=8\n",
    "#calculate the discriminant\n",
    "\n",
    "d=(b**2-4*a*c)\n",
    "\n",
    "#finding two results\n",
    "\n",
    "sol1=(-b-cmath.sqrt(d))/2*a\n",
    "sol2=(-b+cmath.sqrt(d))/2*a\n",
    "\n",
    "print(\"the two roots of equation\",(sol1,sol2))"
   ]
  },
  {
   "cell_type": "code",
   "execution_count": 10,
   "id": "35569bc6",
   "metadata": {},
   "outputs": [
    {
     "name": "stdout",
     "output_type": "stream",
     "text": [
      "value of x after swap 16\n",
      "value of y after swap 20\n"
     ]
    }
   ],
   "source": [
    "#5.Write a Python program to swap two variables without temp variable?\n",
    "\n",
    "x=20\n",
    "y=16\n",
    "\n",
    "#swapping without temp variable\n",
    "\n",
    "x,y=y,x\n",
    "\n",
    "print(\"value of x after swap\",x)\n",
    "print(\"value of y after swap\",y)"
   ]
  },
  {
   "cell_type": "code",
   "execution_count": null,
   "id": "4ded4f97",
   "metadata": {},
   "outputs": [],
   "source": []
  },
  {
   "cell_type": "code",
   "execution_count": null,
   "id": "20d2f41a",
   "metadata": {},
   "outputs": [],
   "source": []
  },
  {
   "cell_type": "code",
   "execution_count": null,
   "id": "1ae28b40",
   "metadata": {},
   "outputs": [],
   "source": []
  },
  {
   "cell_type": "code",
   "execution_count": null,
   "id": "1331450b",
   "metadata": {},
   "outputs": [],
   "source": []
  }
 ],
 "metadata": {
  "kernelspec": {
   "display_name": "Python 3 (ipykernel)",
   "language": "python",
   "name": "python3"
  },
  "language_info": {
   "codemirror_mode": {
    "name": "ipython",
    "version": 3
   },
   "file_extension": ".py",
   "mimetype": "text/x-python",
   "name": "python",
   "nbconvert_exporter": "python",
   "pygments_lexer": "ipython3",
   "version": "3.9.7"
  }
 },
 "nbformat": 4,
 "nbformat_minor": 5
}

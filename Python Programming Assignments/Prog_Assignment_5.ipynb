{
 "cells": [
  {
   "cell_type": "code",
   "execution_count": 4,
   "id": "c15b1fcf",
   "metadata": {},
   "outputs": [
    {
     "name": "stdout",
     "output_type": "stream",
     "text": [
      "enter the first number:24\n",
      "enter the second number36\n",
      "LCM of 24 and 36 is 72\n"
     ]
    }
   ],
   "source": [
    "#1.Write a Python Program to Find LCM?\n",
    "\n",
    "def compute_lcm(n1,n2):\n",
    "    if n1>n2:\n",
    "        high=n1\n",
    "    else:\n",
    "        high=n2\n",
    "        value=high\n",
    "        while True:\n",
    "            if high%n1==0 and high%n2==0:\n",
    "                print(\"LCM of\", n1, \"and\", n2, \"is\", high)\n",
    "                break\n",
    "            else:\n",
    "                high=high+value\n",
    "                    \n",
    "n1=int(input(\"enter the first number:\"))\n",
    "n2=int(input(\"enter the second number\"))\n",
    "compute_lcm(n1,n2)                   \n",
    "\n"
   ]
  },
  {
   "cell_type": "code",
   "execution_count": 7,
   "id": "dcfca3d2",
   "metadata": {},
   "outputs": [
    {
     "name": "stdout",
     "output_type": "stream",
     "text": [
      "enter the first no.12\n",
      "enter the second no.24\n",
      "HCF is 12\n"
     ]
    }
   ],
   "source": [
    "#2.Write a Python Program to Find HCF?\n",
    "num1=int(input(\"enter the first no.\"))\n",
    "num2=int(input(\"enter the second no.\"))\n",
    "if num1<num2:\n",
    "    min=num1\n",
    "else:\n",
    "    min=num2\n",
    "for i in range(1,min+1):\n",
    "    hcf=i\n",
    "print(f\"HCF is {hcf}\")\n",
    "\n",
    "    \n",
    "    "
   ]
  },
  {
   "cell_type": "code",
   "execution_count": 8,
   "id": "7eeb037b",
   "metadata": {},
   "outputs": [
    {
     "name": "stdout",
     "output_type": "stream",
     "text": [
      "enter the number:24\n",
      "the dec number is 24\n",
      "0b11000 in binary.\n",
      "0o30 in octal.\n",
      "0x18 in hexadecimal\n"
     ]
    }
   ],
   "source": [
    "#3.Write a Python Program to Convert Decimal to Binary, Octal and Hexadecimal?\n",
    "n=int(input('enter the number:'))\n",
    "\n",
    "print(\"the dec number is\",n)\n",
    "print(bin(n),\"in binary.\")\n",
    "print(oct(n),\"in octal.\")\n",
    "print(hex(n),\"in hexadecimal\")\n",
    "\n",
    "    \n"
   ]
  },
  {
   "cell_type": "code",
   "execution_count": 17,
   "id": "7a64117f",
   "metadata": {},
   "outputs": [
    {
     "name": "stdout",
     "output_type": "stream",
     "text": [
      "enter the character:k\n",
      "ASCII value of n is 107\n"
     ]
    }
   ],
   "source": [
    "#4.Write a Python Program To Find ASCII value of a character?\n",
    "n=input(\"enter the character:\")\n",
    "print(\"ASCII value of n is\",ord(n))"
   ]
  },
  {
   "cell_type": "code",
   "execution_count": 20,
   "id": "d4828f96",
   "metadata": {},
   "outputs": [
    {
     "name": "stdout",
     "output_type": "stream",
     "text": [
      "1.Addition\n",
      "2.Subtraction\n",
      "3.Multiplication\n",
      "4.Division\n",
      "enter your choice1\n",
      "enter the number:7\n",
      "enter the number:9\n",
      "7.0 + 9.0 = 16.0\n"
     ]
    }
   ],
   "source": [
    "#5.Write a Python Program to Make a Simple Calculator with 4 basic mathematical operations?\n",
    "\n",
    "print(\"1.Addition\")\n",
    "print(\"2.Subtraction\")\n",
    "print(\"3.Multiplication\")\n",
    "print(\"4.Division\")\n",
    "\n",
    "choice=input('enter your choice')\n",
    "n1=float(input(\"enter the number:\"))\n",
    "n2=float(input(\"enter the number:\"))\n",
    "\n",
    "if choice==\"1\":\n",
    "    print(n1,\"+\",n2,\"=\",(n1+n2))\n",
    "elif choice==\"2\":\n",
    "    print(n1,\"-\",n2,\"=\",(n1-n2))\n",
    "elif choice==\"3\":\n",
    "    print(n1,\"*\",n2,\"=\",(n1*n2))\n",
    "elif choice==\"4\":\n",
    "    print(n1,\"/\",n2,\"=\",(n1/n2))\n",
    "else:\n",
    "    print(\"invalid choice\")\n",
    "    \n",
    "    \n",
    "    "
   ]
  },
  {
   "cell_type": "code",
   "execution_count": null,
   "id": "17472666",
   "metadata": {},
   "outputs": [],
   "source": []
  }
 ],
 "metadata": {
  "kernelspec": {
   "display_name": "Python 3 (ipykernel)",
   "language": "python",
   "name": "python3"
  },
  "language_info": {
   "codemirror_mode": {
    "name": "ipython",
    "version": 3
   },
   "file_extension": ".py",
   "mimetype": "text/x-python",
   "name": "python",
   "nbconvert_exporter": "python",
   "pygments_lexer": "ipython3",
   "version": "3.9.7"
  }
 },
 "nbformat": 4,
 "nbformat_minor": 5
}

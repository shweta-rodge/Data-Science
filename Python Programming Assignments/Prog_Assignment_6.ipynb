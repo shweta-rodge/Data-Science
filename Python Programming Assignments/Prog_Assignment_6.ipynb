{
 "cells": [
  {
   "cell_type": "code",
   "execution_count": 1,
   "id": "a19a3aea",
   "metadata": {},
   "outputs": [
    {
     "name": "stdout",
     "output_type": "stream",
     "text": [
      "how many terms:8\n",
      "Fibonnaci sequence\n",
      "0\n",
      "1\n",
      "1\n",
      "2\n",
      "3\n",
      "5\n",
      "8\n",
      "13\n"
     ]
    }
   ],
   "source": [
    "#1.Write a Python Program to Display Fibonacci Sequence Using Recursion?\n",
    "\n",
    "def fibo_recur(n):\n",
    "    if n<=1:\n",
    "        return n\n",
    "    else:\n",
    "        return (fibo_recur(n-1)+fibo_recur(n-2))\n",
    "nterms=int(input(\"how many terms:\"))\n",
    "if nterms<=0:\n",
    "    print(\"please enter a valid input\")\n",
    "else:\n",
    "    print(\"Fibonnaci sequence\")\n",
    "    \n",
    "for i in range(nterms):\n",
    "    print(fibo_recur(i))\n",
    "    \n",
    "\n",
    "\n"
   ]
  },
  {
   "cell_type": "code",
   "execution_count": 2,
   "id": "23ffc969",
   "metadata": {},
   "outputs": [
    {
     "name": "stdout",
     "output_type": "stream",
     "text": [
      "number: 5\n",
      "factorial: 120\n"
     ]
    }
   ],
   "source": [
    "#2.Write a Python Program to Find Factorial of Number Using Recursion?\n",
    "\n",
    "def factorial(n):\n",
    "    if (n==1 or n==0):\n",
    "        return 1\n",
    "    else:\n",
    "        return (n*factorial(n-1))\n",
    "num=5\n",
    "print(\"number:\",num)\n",
    "print(\"factorial:\",factorial(num))"
   ]
  },
  {
   "cell_type": "code",
   "execution_count": 4,
   "id": "0e2a149e",
   "metadata": {},
   "outputs": [
    {
     "name": "stdout",
     "output_type": "stream",
     "text": [
      "enter the height in meters 1.6\n",
      "enter the weight in kgs60\n",
      "the bmi is  23.437499999999996\n"
     ]
    }
   ],
   "source": [
    "#3.Write a Python Program to calculate your Body Mass Index?\n",
    "\n",
    "height=float(input(\"enter the height in meters \"))\n",
    "weight=float(input(\"enter the weight in kgs\"))\n",
    "\n",
    "BMI= weight/(height**2)\n",
    "\n",
    "print(\"the Person bmi is \",BMI)"
   ]
  },
  {
   "cell_type": "code",
   "execution_count": 7,
   "id": "0788890f",
   "metadata": {},
   "outputs": [
    {
     "name": "stdout",
     "output_type": "stream",
     "text": [
      "log of n is 1.6094379124341003\n"
     ]
    }
   ],
   "source": [
    "#4.Write a Python Program to calculate the natural logarithm of any number?\n",
    "\n",
    "import math\n",
    "n=math.log(5)\n",
    "print(\"log of n is\",n)"
   ]
  },
  {
   "cell_type": "code",
   "execution_count": 8,
   "id": "bd07e096",
   "metadata": {},
   "outputs": [
    {
     "name": "stdout",
     "output_type": "stream",
     "text": [
      "729\n"
     ]
    }
   ],
   "source": [
    "#5.Write a Python Program for cube sum of first n natural numbers?\n",
    "\n",
    "def sum_of_series(n):\n",
    "    sum=0\n",
    "    for i in range(n,n+1):\n",
    "        sum=i*i*i\n",
    "        return sum\n",
    "    \n",
    "n=9\n",
    "print(sum_of_series(n))"
   ]
  },
  {
   "cell_type": "code",
   "execution_count": null,
   "id": "108f78b0",
   "metadata": {},
   "outputs": [],
   "source": []
  }
 ],
 "metadata": {
  "kernelspec": {
   "display_name": "Python 3 (ipykernel)",
   "language": "python",
   "name": "python3"
  },
  "language_info": {
   "codemirror_mode": {
    "name": "ipython",
    "version": 3
   },
   "file_extension": ".py",
   "mimetype": "text/x-python",
   "name": "python",
   "nbconvert_exporter": "python",
   "pygments_lexer": "ipython3",
   "version": "3.9.7"
  }
 },
 "nbformat": 4,
 "nbformat_minor": 5
}

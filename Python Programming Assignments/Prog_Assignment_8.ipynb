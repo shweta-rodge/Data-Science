{
 "cells": [
  {
   "cell_type": "code",
   "execution_count": 2,
   "id": "4b8173ae",
   "metadata": {},
   "outputs": [
    {
     "name": "stdout",
     "output_type": "stream",
     "text": [
      "enter the no of rows2\n",
      "enter the noof columns2\n",
      "1\n",
      "2\n",
      "3\n",
      "4\n",
      "matrix1:\n",
      "1  2  \n",
      "3  4  \n",
      "enter the elemnts of matrix2:\n",
      "2\n",
      "3\n",
      "5\n",
      "6\n",
      "matrix2:\n",
      "2  3  \n",
      "5  6  \n",
      "result is :\n",
      "3 <3\n",
      "5 <3\n",
      "8 <3\n",
      "10 <3\n"
     ]
    }
   ],
   "source": [
    "#1.Write a Python Program to Add Two Matrices?\n",
    "\n",
    "row=int(input(\"enter the no of rows\"))\n",
    "col=int(input(\"enter the noof columns\"))\n",
    "\n",
    "matrix1=[[int(input()) for i in range (col)] for j in range (row)]\n",
    "print(\"matrix1:\")\n",
    "for i in range(row):\n",
    "    for j in range(col):\n",
    "        print(format (matrix1[i][j],\"<3\"),end=\"\")\n",
    "    print()\n",
    "print(\"enter the elemnts of matrix2:\")\n",
    "matrix2=[[int(input()) for i in range (col)] for j in range (row)]\n",
    "print(\"matrix2:\")\n",
    "for i in range(row):\n",
    "    for j in range(col):\n",
    "        print(format (matrix2[i][j],\"<3\"),end=\"\")\n",
    "    print()\n",
    "    \n",
    "result=[[0 for i in range(col)] for j in range(col) ]    \n",
    "for i in range(row):\n",
    "    for j in range(col):\n",
    "        result[i][j]=matrix1[i][j]+matrix2[i][j]\n",
    "        \n",
    "print(\"result is :\")\n",
    "for i in range(len(matrix1)):\n",
    "    for j in range(len(matrix1[0])):\n",
    "        print(format (result[i][j]),\"<3\",end=\"\")\n",
    "        print()\n",
    "        \n",
    "        \n",
    "    \n",
    "    \n",
    "        \n",
    "        "
   ]
  },
  {
   "cell_type": "code",
   "execution_count": 5,
   "id": "73e1baf7",
   "metadata": {},
   "outputs": [
    {
     "name": "stdout",
     "output_type": "stream",
     "text": [
      "enter the no of rows for matrix1:2\n",
      "enter the no of columns for matrix2:2\n",
      "enter the no of columns for matrix1/row for matrix2:2\n",
      "1\n",
      "4\n",
      "5\n",
      "8\n",
      "matrix1:\n",
      "1    4    \n",
      "5    8    \n",
      "enter the elemnts of matrix2:\n",
      "2\n",
      "4\n",
      "8\n",
      "9\n",
      "matrix2:\n",
      "2    4    \n",
      "8    9    \n",
      "result is :\n",
      "34 <5\n",
      "40 <5\n",
      "74 <5\n",
      "92 <5\n"
     ]
    }
   ],
   "source": [
    "#2.Write a Python Program to Multiply Two Matrices?\n",
    "p=int(input(\"enter the no of rows for matrix1:\"))\n",
    "q=int(input(\"enter the no of columns for matrix2:\"))\n",
    "n=int(input(\"enter the no of columns for matrix1/row for matrix2:\"))\n",
    "\n",
    "matrix1=[[int(input()) for i in range (n)] for j in range (p)]\n",
    "print(\"matrix1:\")\n",
    "for i in range(p):\n",
    "    for j in range(n):\n",
    "        print(format (matrix1[i][j],\"<5\"),end=\"\")\n",
    "    print()\n",
    "print(\"enter the elemnts of matrix2:\")\n",
    "matrix2=[[int(input()) for i in range (q)] for j in range (n)]\n",
    "print(\"matrix2:\")\n",
    "for i in range(n):\n",
    "    for j in range(q):\n",
    "        print(format (matrix2[i][j],\"<5\"),end=\"\")\n",
    "    print()\n",
    "    \n",
    "result=[[0 for i in range(q)] for j in range(p) ]    \n",
    "for i in range(p):\n",
    "    for j in range(q):\n",
    "        for k in range(n):\n",
    "            result[i][j]=result[i][j]+matrix1[i][k]*matrix2[k][j]\n",
    "        \n",
    "print(\"result is :\")\n",
    "for i in range(p):\n",
    "    for j in range(q):\n",
    "        print(format (result[i][j]),\"<5\",end=\"\")\n",
    "        print()"
   ]
  },
  {
   "cell_type": "code",
   "execution_count": 8,
   "id": "34ba57f4",
   "metadata": {},
   "outputs": [
    {
     "name": "stdout",
     "output_type": "stream",
     "text": [
      "enter the no of rows :2\n",
      "enter the no of columns:2\n",
      "enter the elemnts of matrix1:\n",
      "1\n",
      "4\n",
      "5\n",
      "7\n",
      "matrix1:\n",
      "1   4   \n",
      "5   7   \n",
      "result:\n",
      "1   5   4   7   "
     ]
    }
   ],
   "source": [
    "#3.Write a Python Program to Transpose a Matrix?\n",
    "p=int(input(\"enter the no of rows :\"))\n",
    "q=int(input(\"enter the no of columns:\"))\n",
    "\n",
    "print(\"enter the elemnts of matrix1:\")\n",
    "matrix1= [[int(input()) for i in range (q)] for j in range (p)]\n",
    "print(\"matrix1:\")\n",
    "for i in range(p):\n",
    "    for j in range(q):\n",
    "        print(format (matrix1[i][j],\"<4\"),end=\"\")\n",
    "    print()\n",
    "    \n",
    "result=[[0 for i in range(p)] for j in range(q) ] \n",
    "for i in range(q):\n",
    "    for j in range(p):\n",
    "        result[i][j]=matrix1[j][i]\n",
    "\n",
    "print(\"result:\")        \n",
    "for i in range(q):\n",
    "    for j in range(p):\n",
    "        print(format (result[i][j],\"<4\"),end=\"\")\n",
    "                \n",
    "        \n",
    "\n"
   ]
  },
  {
   "cell_type": "code",
   "execution_count": 11,
   "id": "788af7ce",
   "metadata": {},
   "outputs": [
    {
     "name": "stdout",
     "output_type": "stream",
     "text": [
      "enter a string hello it is example to sort words   \n",
      "the sorted words are:\n",
      "example\n",
      "hello\n",
      "is\n",
      "it\n",
      "sort\n",
      "to\n",
      "words\n"
     ]
    }
   ],
   "source": [
    "#4.Write a Python Program to Sort Words in Alphabetic Order?\n",
    "\n",
    "str=input(\"enter a string \")\n",
    "\n",
    "words=[word.lower() for word in str.split()]\n",
    "words.sort()\n",
    "\n",
    "print(\"the sorted words are:\")\n",
    "for word in words:\n",
    "    print(word)"
   ]
  },
  {
   "cell_type": "code",
   "execution_count": 3,
   "id": "7fa41d88",
   "metadata": {},
   "outputs": [
    {
     "name": "stdout",
     "output_type": "stream",
     "text": [
      "Hello he said and went\n"
     ]
    }
   ],
   "source": [
    "#5.Write a Python Program to Remove Punctuation From a String?\n",
    "\n",
    "punctuations = '''!()-[]{};:'\"\\,<>./?@#$%^&*_~'''\n",
    "str=\"Hello!!!, he said ---and went.\"\n",
    "no_punct=\"\"\n",
    "for char in str:\n",
    "    if char not in punctuations:\n",
    "        no_punct=no_punct+char\n",
    "        \n",
    "print(no_punct)        "
   ]
  },
  {
   "cell_type": "code",
   "execution_count": null,
   "id": "19be84b9",
   "metadata": {},
   "outputs": [],
   "source": []
  },
  {
   "cell_type": "code",
   "execution_count": null,
   "id": "9b191f77",
   "metadata": {},
   "outputs": [],
   "source": []
  }
 ],
 "metadata": {
  "kernelspec": {
   "display_name": "Python 3 (ipykernel)",
   "language": "python",
   "name": "python3"
  },
  "language_info": {
   "codemirror_mode": {
    "name": "ipython",
    "version": 3
   },
   "file_extension": ".py",
   "mimetype": "text/x-python",
   "name": "python",
   "nbconvert_exporter": "python",
   "pygments_lexer": "ipython3",
   "version": "3.9.7"
  }
 },
 "nbformat": 4,
 "nbformat_minor": 5
}

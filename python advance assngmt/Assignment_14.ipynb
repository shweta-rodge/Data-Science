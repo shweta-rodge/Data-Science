{
 "cells": [
  {
   "cell_type": "code",
   "execution_count": null,
   "id": "12318da9",
   "metadata": {},
   "outputs": [],
   "source": [
    "#Q1. Is an assignment operator like += only for show? Is it possible that it would lead to faster results at the runtime?\n",
    "#sol.\n",
    "#In Python, += is sugar coating for the __iadd__ special method, or __add__ or __radd__ if __iadd__ isn't present. \n",
    "#The __iadd__ method of a class can do anything it wants. \n",
    "#The list object implements it and uses it to iterate over an iterable object appending each element to itself in the same way that the list's extend method does."
   ]
  },
  {
   "cell_type": "code",
   "execution_count": 1,
   "id": "1519a853",
   "metadata": {},
   "outputs": [
    {
     "name": "stdout",
     "output_type": "stream",
     "text": [
      "Using the a,b = a+b,a\n",
      "0\n",
      "1\n",
      "1\n",
      "2\n",
      "3\n",
      "5\n",
      "8\n",
      "\n",
      " Using the expanded statements\n",
      "0\n",
      "1\n",
      "1\n",
      "2\n",
      "3\n",
      "5\n",
      "8\n"
     ]
    }
   ],
   "source": [
    "#Q2. What is the smallest number of statements you'd have to write in most programming languages to replace the Python expression a, b = a + b, a?\n",
    "#sol.\n",
    "\n",
    "a,b = 0,1\n",
    "print(\"Using the a,b = a+b,a\")\n",
    "while a<10:\n",
    "  print(a)\n",
    "  a,b = a+b,a\n",
    "\n",
    "\n",
    "# Expanding the above a,b = a+b,a\n",
    "\n",
    "a=0\n",
    "b=1\n",
    "print(\"\\n\",\"Using the expanded statements\")\n",
    "while a < 10:\n",
    "    print(a)\n",
    "    temp=a\n",
    "    a=a+b\n",
    "    b=temp\n"
   ]
  },
  {
   "cell_type": "code",
   "execution_count": 5,
   "id": "8966f675",
   "metadata": {},
   "outputs": [
    {
     "name": "stdout",
     "output_type": "stream",
     "text": [
      "[0, 0, 0, 0, 0, 0, 0, 0, 0, 0, 0, 0, 0, 0, 0, 0, 0, 0, 0, 0, 0, 0, 0, 0, 0, 0, 0, 0, 0, 0, 0, 0, 0, 0, 0, 0, 0, 0, 0, 0, 0, 0, 0, 0, 0, 0, 0, 0, 0, 0, 0, 0, 0, 0, 0, 0, 0, 0, 0, 0, 0, 0, 0, 0, 0, 0, 0, 0, 0, 0, 0, 0, 0, 0, 0, 0, 0, 0, 0, 0, 0, 0, 0, 0, 0, 0, 0, 0, 0, 0, 0, 0, 0, 0, 0, 0, 0, 0, 0, 0]\n"
     ]
    }
   ],
   "source": [
    "#Q3. In Python, what is the most effective way to set a list of 100 integers to 0?\n",
    "#sol.\n",
    "print([0 for i in range(0,100)])\n",
    "    "
   ]
  },
  {
   "cell_type": "code",
   "execution_count": 7,
   "id": "9bdee0db",
   "metadata": {},
   "outputs": [
    {
     "name": "stdout",
     "output_type": "stream",
     "text": [
      "[1, 2, 3, 1, 2, 3, 1, 2, 3, 1, 2, 3, 1, 2, 3, 1, 2, 3, 1, 2, 3, 1, 2, 3, 1, 2, 3, 1, 2, 3, 1, 2, 3, 1, 2, 3, 1, 2, 3, 1, 2, 3, 1, 2, 3, 1, 2, 3, 1, 2, 3, 1, 2, 3, 1, 2, 3, 1, 2, 3, 1, 2, 3, 1, 2, 3, 1, 2, 3, 1, 2, 3, 1, 2, 3, 1, 2, 3, 1, 2, 3, 1, 2, 3, 1, 2, 3, 1, 2, 3, 1, 2, 3, 1, 2, 3, 1, 2, 3, 1, 2, 3, 1, 2, 3, 1, 2, 3, 1, 2, 3, 1, 2, 3, 1, 2, 3, 1, 2, 3, 1, 2, 3, 1, 2, 3, 1, 2, 3, 1, 2, 3, 1, 2, 3, 1, 2, 3, 1, 2, 3, 1, 2, 3, 1, 2, 3, 1, 2, 3, 1, 2, 3, 1, 2, 3, 1, 2, 3, 1, 2, 3, 1, 2, 3, 1, 2, 3, 1, 2, 3, 1, 2, 3, 1, 2, 3, 1, 2, 3, 1, 2, 3, 1, 2, 3, 1, 2, 3, 1, 2, 3, 1, 2, 3, 1, 2, 3, 1, 2, 3, 1, 2, 3, 1, 2, 3, 1, 2, 3, 1, 2, 3, 1, 2, 3, 1, 2, 3, 1, 2, 3, 1, 2, 3, 1, 2, 3, 1, 2, 3, 1, 2, 3, 1, 2, 3, 1, 2, 3, 1, 2, 3, 1, 2, 3, 1, 2, 3, 1, 2, 3, 1, 2, 3, 1, 2, 3, 1, 2, 3, 1, 2, 3, 1, 2, 3, 1, 2, 3, 1, 2, 3, 1, 2, 3, 1, 2, 3, 1, 2, 3, 1, 2, 3, 1, 2, 3, 1, 2, 3, 1, 2, 3, 1, 2, 3]\n"
     ]
    }
   ],
   "source": [
    "#Q4. What is the most effective way to initialise a list of 99 integers that repeats the sequence 1, 2, 3? S If necessary, show step-by-step instructions on how to accomplish this.\n",
    "#sol.\n",
    "\n",
    "a=1\n",
    "b=2\n",
    "c=3\n",
    "l=[]\n",
    "for i in range(0,99):\n",
    "    l.append(a)\n",
    "    l.append(b)\n",
    "    l.append(c)\n",
    "print(l)"
   ]
  },
  {
   "cell_type": "code",
   "execution_count": 8,
   "id": "e8070d5b",
   "metadata": {},
   "outputs": [
    {
     "name": "stdout",
     "output_type": "stream",
     "text": [
      "[[0, 0, 0, 0, 0], [0, 0, 0, 0, 0], [0, 0, 0, 0, 0], [0, 0, 0, 0, 0]]\n"
     ]
    }
   ],
   "source": [
    "#Q5. If you're using IDLE to run a Python application, explain how to print a multidimensional list as efficiently?\n",
    "#sol.\n",
    "# Python program to create a m x n matrix\n",
    "# with all 0s\n",
    "m = 4\n",
    "n = 5\n",
    "  \n",
    "a = [[0 for x in range(n)] for x in range(m)]\n",
    "print(a)"
   ]
  },
  {
   "cell_type": "code",
   "execution_count": 9,
   "id": "7bb60572",
   "metadata": {},
   "outputs": [
    {
     "name": "stdout",
     "output_type": "stream",
     "text": [
      "['H', 'e', 'l', 'l', 'o', ' ', 'W', 'o', 'r', 'l', 'd']\n"
     ]
    }
   ],
   "source": [
    "#Q6. Is it possible to use list comprehension with a string? If so, how can you go about doing it?\n",
    "#sol.\n",
    "\n",
    "s=\"Hello World\"\n",
    "\n",
    "print([i for i in s])"
   ]
  },
  {
   "cell_type": "code",
   "execution_count": null,
   "id": "5894e7c8",
   "metadata": {},
   "outputs": [],
   "source": [
    "#Q7. From the command line, how do you get support with a user-written Python programme? Is this possible from inside IDLE?\n",
    "#sol.he Python help function is used to display the documentation of modules, functions, classes, keywords, etc\n"
   ]
  },
  {
   "cell_type": "code",
   "execution_count": null,
   "id": "381ffeee",
   "metadata": {},
   "outputs": [],
   "source": [
    "#Q8. Functions are said to be “first-class objects” in Python but not in most other languages, such as C++ or Java. What can you do in Python with a function (callable object) that you can't do in C or C++?\n",
    "#sol.In Python, functions behave like any other object, such as an int or a list. That means that you can use functions as arguments to other functions,\n",
    "# store functions as dictionary values, or return a function from another function."
   ]
  },
  {
   "cell_type": "code",
   "execution_count": 10,
   "id": "aaf7e09e",
   "metadata": {},
   "outputs": [
    {
     "name": "stdout",
     "output_type": "stream",
     "text": [
      "Hello, this is before function execution\n",
      "This is inside the function !!\n",
      "This is after function execution\n"
     ]
    }
   ],
   "source": [
    "#Q9. How do you distinguish between a wrapper, a wrapped feature, and a decorator?\n",
    "#sol.  \n",
    "# defining a decorator \n",
    "def hello_decorator(func): \n",
    "    \n",
    "    # inner1 is a Wrapper function in  \n",
    "    # which the argument is called \n",
    "        \n",
    "    # inner function can access the outer local \n",
    "    # functions like in this case \"func\" \n",
    "    def inner1(): \n",
    "        print(\"Hello, this is before function execution\") \n",
    "    \n",
    "        # calling the actual function now \n",
    "        # inside the wrapper function. \n",
    "        func() \n",
    "    \n",
    "        print(\"This is after function execution\") \n",
    "            \n",
    "    return inner1 \n",
    "    \n",
    "    \n",
    "# defining a function, to be called inside wrapper \n",
    "def function_to_be_used(): \n",
    "    print(\"This is inside the function !!\") \n",
    "    \n",
    "    \n",
    "# passing 'function_to_be_used' inside the \n",
    "# decorator to control its behavior \n",
    "function_to_be_used = hello_decorator(function_to_be_used) \n",
    "    \n",
    "    \n",
    "# calling the function \n",
    "function_to_be_used() "
   ]
  },
  {
   "cell_type": "code",
   "execution_count": 11,
   "id": "4434d571",
   "metadata": {},
   "outputs": [
    {
     "name": "stdout",
     "output_type": "stream",
     "text": [
      "Begining of the generator func\n",
      "Before the yielding value: 0\n",
      "The value yield by the genarator object: 0\n",
      "After the yielding value: 0\n",
      "Before the yielding value: 1\n",
      "The value yield by the genarator object: 1\n",
      "After the yielding value: 1\n",
      "Before the yielding value: 2\n",
      "The value yield by the genarator object: 2\n",
      "After the yielding value: 2\n",
      "Before the yielding value: 3\n",
      "The value yield by the genarator object: 3\n",
      "After the yielding value: 3\n",
      "Before the yielding value: 4\n",
      "The value yield by the genarator object: 4\n",
      "After the yielding value: 4\n",
      "Before the yielding value: 5\n",
      "The value yield by the genarator object: 5\n",
      "After the yielding value: 5\n",
      "Before the yielding value: 6\n",
      "The value yield by the genarator object: 6\n",
      "After the yielding value: 6\n",
      "End of the generator function\n"
     ]
    }
   ],
   "source": [
    "#Q10. If a function is a generator function, what does it return?\n",
    "#sol.A generator is a special type of function which does not return a single value, instead, \n",
    "# it returns an iterator object with a sequence of values.\n",
    "# In a generator function, a yield statement is used rather than a return statement.\n",
    "\n",
    "def mygen_func(x):\n",
    "    print(\"Begining of the generator func\")\n",
    "    for i in range(0,x):\n",
    "        print(\"Before the yielding value:\",i)\n",
    "        yield i\n",
    "        print(\"After the yielding value:\",i)\n",
    "    print(\"End of the generator function\")\n",
    "        \n",
    "gen=mygen_func(7)\n",
    "while True:\n",
    "    try:\n",
    "        print(\"The value yield by the genarator object:\", next(gen))\n",
    "    except Exception as e:\n",
    "        break\n"
   ]
  },
  {
   "cell_type": "code",
   "execution_count": null,
   "id": "5ae28174",
   "metadata": {},
   "outputs": [],
   "source": [
    "#Q11. What is the one improvement that must be made to a function in order for it to become a generator function in the Python language?\n",
    "#sol. Use yield statement instead of print inside the function, to make it a generator function."
   ]
  },
  {
   "cell_type": "code",
   "execution_count": null,
   "id": "90bceb3f",
   "metadata": {},
   "outputs": [],
   "source": [
    "#Q12. Identify at least one benefit of generators.\n",
    "#sol.  One of the advantages of the generator over the iterator is that elements are generated dynamically. \n",
    "# Since the next item is generated only after the first is consumed, it is more memory efficient than the iterator."
   ]
  },
  {
   "cell_type": "code",
   "execution_count": null,
   "id": "03c605ea",
   "metadata": {},
   "outputs": [],
   "source": []
  }
 ],
 "metadata": {
  "kernelspec": {
   "display_name": "Python 3 (ipykernel)",
   "language": "python",
   "name": "python3"
  },
  "language_info": {
   "codemirror_mode": {
    "name": "ipython",
    "version": 3
   },
   "file_extension": ".py",
   "mimetype": "text/x-python",
   "name": "python",
   "nbconvert_exporter": "python",
   "pygments_lexer": "ipython3",
   "version": "3.9.7"
  }
 },
 "nbformat": 4,
 "nbformat_minor": 5
}

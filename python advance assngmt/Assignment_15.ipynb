{
 "cells": [
  {
   "cell_type": "code",
   "execution_count": 4,
   "id": "41e4d013",
   "metadata": {},
   "outputs": [],
   "source": [
    "#1.What are the new features added in Python 3.8 version?\n",
    "#sol.\n",
    "#1)There is new syntax := that assigns values to variables as part of a larger expression. \n",
    "#It is affectionately known as “the walrus operator”.\n",
    "#(2) There is a new function parameter syntax (/) to highlight that some of the functions must be stated positionally and not by keyword arguments.\n",
    "#    We also have an operator (*) that indicates that the arguments must be keyword only.\n",
    "#e.g.\n",
    "def func( a,b,/,c,d,*,e,f ):\n",
    "  print(a,b,c,d,e,f )\n",
    "\n",
    "#This will impose the way we can call this function:\n",
    "\n",
    "#a and b arguments are positional only.\n",
    "#c and d arguments can be positional as well as keyword.\n",
    "#e and f arguments are keyword only.\n",
    "\n",
    "#(3) vector call which is a fast calling protocol for CPython.\n",
    "#    A new C API is introduced to optimize the calls of objects.\n",
    "#    This feature was already used in CPython but with the new C API, “fastcall” \n",
    "#    convention can be used by a user-defined extension class.\n",
    "\n",
    "#(4) Improved typing:\n",
    "#Python now supports the “final”. It has 3 major uses:\n",
    "#Declaring a class final will prevent it from inheriting.\n",
    "#Declaring a variable final will prevent it from reassigning the value.\n",
    "#Declaring a method final will prevent it from being overridden.\n",
    "\n"
   ]
  },
  {
   "cell_type": "code",
   "execution_count": 5,
   "id": "09ffca88",
   "metadata": {},
   "outputs": [
    {
     "name": "stdout",
     "output_type": "stream",
     "text": [
      "monkey_f() is being called\n"
     ]
    }
   ],
   "source": [
    "#Q2.What is monkey patching in Python?\n",
    "#sol. In Python, the term monkey patch refers to dynamic (or run-time) modifications of a class or module. \n",
    "#In Python, we can actually change the behavior of code at run-time.\n",
    "\n",
    "class A:\n",
    "     def func(self):\n",
    "          print (\"func() is being called\")\n",
    "\n",
    "#We use above class in below code and change behavior of func() at run-time by assigning different value.\n",
    "\n",
    "\n",
    "\n",
    "def monkey_f(self):\n",
    "     print (\"monkey_f() is being called\")\n",
    "   \n",
    "# replacing address of \"func\" with \"monkey_f\"\n",
    "A.func = monkey_f\n",
    "obj = A()\n",
    "  \n",
    "# calling function \"func\" whose address got replaced\n",
    "# with function \"monkey_f()\"\n",
    "obj.func()"
   ]
  },
  {
   "cell_type": "code",
   "execution_count": 7,
   "id": "5d41362d",
   "metadata": {},
   "outputs": [
    {
     "name": "stdout",
     "output_type": "stream",
     "text": [
      "Shallow copy: \n",
      "\n",
      "a=[[1, 2, 3], [4, 5, 6]] and b=[[1, 2, 3], [4, 5, 6]]\n",
      "Address of a=2460119167680 and Address of b=2460119167616\n",
      "Addresses of id(a) and id(b) are same: False\n",
      "Addresses of individual elements inside the compound objects, a[0] and b[0] are same: True\n",
      "\n",
      " Deepcopy: \n",
      "\n",
      "Value of c: [[1, 2, 3], [4, 5, 6]]\n",
      "Address of a=2460119167680 and Address of c=2460119168448\n",
      "Addresses of id(a) and id(c) are same: False\n",
      "Address of a[0]=2460119169024 and Address of c[0]=2460119167552\n",
      "Addresses of id(a[0]) and id(c[0]) are same: False\n",
      "\n",
      " Modified Value of a: [[[0, 0, 0], 2, 3], [4, 5, 6]]\n",
      "Value of b: [[[0, 0, 0], 2, 3], [4, 5, 6]]\n",
      "Value of c: [[1, 2, 3], [4, 5, 6]]\n"
     ]
    }
   ],
   "source": [
    "#Q.3What is the difference between a shallow copy and deep copy?\n",
    "#sol.\n",
    "#A shallow copy means constructing a new collection object and then populating it with references to \n",
    "#the child objects found in the original. In essence, a shallow copy is only one level deep. \n",
    "#The copying process does not recurse and therefore won’t create copies of the child objects themselves.\n",
    "\n",
    "import copy\n",
    "\n",
    "a = [[1, 2, 3], [4, 5, 6]]\n",
    "\n",
    "#shallow copy\n",
    "print(\"Shallow copy:\",\"\\n\")\n",
    "b=copy.copy(a)\n",
    "print('a={0} and b={1}'.format(a, b))\n",
    "print('Address of a={} and Address of b={}'.format(id(a),id(b)))\n",
    "print(\"Addresses of id(a) and id(b) are same:\",id(a)==id(b))\n",
    "print(\"Addresses of individual elements inside the compound objects, a[0] and b[0] are same:\",id(a[0])==id(b[0]))\n",
    "\n",
    "\n",
    "#A deep copy makes the copying process recursive. It means first constructing a new collection object and \n",
    "#then recursively populating it with copies of the child objects found in the original. \n",
    "#Copying an object this way walks the whole object tree to create a fully independent clone of the original object \n",
    "#and all of its children.\n",
    "\n",
    "#Deep dopy\n",
    "print(\"\\n\",\"Deepcopy:\",\"\\n\")\n",
    "\n",
    "c=copy.deepcopy(a)\n",
    "print(\"Value of c:\",c)\n",
    "print('Address of a={} and Address of c={}'.format(id(a),id(c)))\n",
    "print(\"Addresses of id(a) and id(c) are same:\",id(a)==id(c))\n",
    "print('Address of a[0]={} and Address of c[0]={}'.format(id(a[0]),id(c[0])))\n",
    "print(\"Addresses of id(a[0]) and id(c[0]) are same:\",id(a[0])==id(c[0]))\n",
    "\n",
    "\n",
    "a[0][0]=[0,0,0]\n",
    "\n",
    "print(\"\\n\",\"Modified Value of a:\",a)\n",
    "print(\"Value of b:\",b) # In case of shallow copy the individual values of the copied object b is also modified\n",
    "print(\"Value of c:\",c) # In case of deep copy the individual values of the copied object c is not modified\n",
    "\n"
   ]
  },
  {
   "cell_type": "code",
   "execution_count": null,
   "id": "2203a1ba",
   "metadata": {},
   "outputs": [],
   "source": [
    "#Q.4 What is the maximum possible length of an identifier?\n",
    "#sol   Python gives the identifiers unlimited length.\n",
    "#However, the layout of PEP-8 prevents the user from breaking the rules and includes a 79-character limit..\n"
   ]
  },
  {
   "cell_type": "code",
   "execution_count": 8,
   "id": "fcd7162f",
   "metadata": {},
   "outputs": [
    {
     "name": "stdout",
     "output_type": "stream",
     "text": [
      "<generator object <genexpr> at 0x0000023CCA934580>\n"
     ]
    },
    {
     "data": {
      "text/plain": [
       "45"
      ]
     },
     "execution_count": 8,
     "metadata": {},
     "output_type": "execute_result"
    }
   ],
   "source": [
    "#Q.5 What is generator comprehension?\n",
    "#sol.\n",
    "#Generator Expressions or comprehension are somewhat similar to list comprehensions, but the former doesn’t construct\n",
    "#list object. Instead of creating a list and keeping the whole sequence in the memory, the generator generates the \n",
    "#next element in demand. When a normal function with a return statement is called, it terminates whenever it gets\n",
    "#a return statement. But a function with a yield statement saves the state of the function and can be picked \n",
    "#up from the same state, next time the function is called.The Generator Expression allows us to create a generator \n",
    "#without the yield keyword.\n",
    "\n",
    "#e.g:\n",
    "gen=(i for i in range(0,10))\n",
    "print(gen)\n",
    "sum(gen)"
   ]
  },
  {
   "cell_type": "code",
   "execution_count": null,
   "id": "524107df",
   "metadata": {},
   "outputs": [],
   "source": []
  }
 ],
 "metadata": {
  "kernelspec": {
   "display_name": "Python 3 (ipykernel)",
   "language": "python",
   "name": "python3"
  },
  "language_info": {
   "codemirror_mode": {
    "name": "ipython",
    "version": 3
   },
   "file_extension": ".py",
   "mimetype": "text/x-python",
   "name": "python",
   "nbconvert_exporter": "python",
   "pygments_lexer": "ipython3",
   "version": "3.9.7"
  }
 },
 "nbformat": 4,
 "nbformat_minor": 5
}

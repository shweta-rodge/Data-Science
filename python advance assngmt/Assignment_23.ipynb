{
 "cells": [
  {
   "cell_type": "markdown",
   "id": "8b5f7456",
   "metadata": {},
   "source": [
    "**Q1. If you have any, what are your choices for increasing the comparison between different figures on the same graph?\n",
    "\n",
    "sol. Matplotlib provides a convenient method called subplots for increasing the comparison between different figures on the same graph. Subplots mean a group of smaller axes (where each axis is a plot) that can exist together within a single figure."
   ]
  },
  {
   "cell_type": "markdown",
   "id": "6f603edc",
   "metadata": {},
   "source": [
    "**Q2. Can you explain the benefit of compound interest over a higher rate of interest that does not compound after reading this chapter?\n",
    "\n",
    "sol. Compound interest makes a sum of money grow at a faster rate than simple interest,because in addition to earning returns on the money you invest, you also earn returns on those returns at the end of every compounding period, which could be daily, monthly, quarterly or annually."
   ]
  },
  {
   "cell_type": "markdown",
   "id": "6af0245e",
   "metadata": {},
   "source": [
    "**Q3. What is a histogram, exactly? Name a numpy method for creating such a graph ?\n",
    "\n",
    "sol. A histogram is the best way to visualize the frequency distribution of a dataset by splitting it into small equal-sized intervals called bins.\n",
    "Numpy has a built-in numpy.histogram() function which represents the frequency of data distribution in the graphical form."
   ]
  },
  {
   "cell_type": "markdown",
   "id": "50305631",
   "metadata": {},
   "source": [
    "**Q4. If necessary, how do you change the aspect ratios between the X and Y axes ?\n",
    "\n",
    "sol. We can use figure(figsize=(10,8)) function inside the matplot.pyplot library which we scale down or up the graph."
   ]
  },
  {
   "cell_type": "markdown",
   "id": "2a89e527",
   "metadata": {},
   "source": [
    "**Q5. Compare and contrast the three types of array multiplication between two numpy arrays: dot product, outer product, and regular multiplication of two numpy arrays ?\n",
    "\n",
    "sol. In regular multiplication values of same index get multiplied.\n",
    "\n",
    "1. In dot product there is row wise multiplication, row of one array with column of second array and so on.\n",
    "2. In outer multiplication every element of first array a1 will be multiply by every element of other array a2 such such the number of columns will be equal to the number of element in another array a2."
   ]
  },
  {
   "cell_type": "markdown",
   "id": "ed4787a8",
   "metadata": {},
   "source": [
    "**Q6. Before you buy a home, which numpy function will you use to measure your monthly mortgage payment ?\n",
    "\n",
    "sol. np.pmt(rate, nper, pv) function we will be using in order to calculate monthly mortgage payment before you purchase a house.\n",
    "\n",
    "rate = The periodic interest rate\n",
    "nper = The number of payment periods\n",
    "pv = The total value of the mortgage loan"
   ]
  },
  {
   "cell_type": "markdown",
   "id": "d4490507",
   "metadata": {},
   "source": [
    "**Q7. Can string data be stored in numpy arrays? If so, list at least one restriction that applies to this data ?\n",
    "\n",
    "sol.: Yes, an array can store the string. The limitation which imposed on the string data is, whenever we store the data of string dtype then it should should keep in mind that the string which is having the maximum length is the limit."
   ]
  },
  {
   "cell_type": "code",
   "execution_count": null,
   "id": "5ca375df",
   "metadata": {},
   "outputs": [],
   "source": []
  }
 ],
 "metadata": {
  "kernelspec": {
   "display_name": "Python 3 (ipykernel)",
   "language": "python",
   "name": "python3"
  },
  "language_info": {
   "codemirror_mode": {
    "name": "ipython",
    "version": 3
   },
   "file_extension": ".py",
   "mimetype": "text/x-python",
   "name": "python",
   "nbconvert_exporter": "python",
   "pygments_lexer": "ipython3",
   "version": "3.9.7"
  }
 },
 "nbformat": 4,
 "nbformat_minor": 5
}

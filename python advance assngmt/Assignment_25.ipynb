{
 "cells": [
  {
   "cell_type": "markdown",
   "id": "52db22b9",
   "metadata": {},
   "source": [
    "Q.1 What is the distinction between a numpy array and a pandas data frame? Is there a way to convert between the two if there is ?\n",
    "\n",
    "sol.A numpy array (ndarray) is a multi.\n",
    "conversion:-Dataframe=pandas.DataFrame(array)dimensional array type containing items of the same type and size.\n",
    "Pandas DataFrames extend NumPy two-dimensional arrays by giving labels to the columns and also to the rows, if you provide an explicit index.\n",
    "conversion:-Dataframe=pandas.DataFrame(array)"
   ]
  },
  {
   "cell_type": "markdown",
   "id": "d9dd0e74",
   "metadata": {},
   "source": [
    "Q2. Identify some of the plotting techniques that are used to produce a stock-market chart ?\n",
    "sol Bar chart, Line Chart are used for plotting."
   ]
  },
  {
   "cell_type": "markdown",
   "id": "66cd84a6",
   "metadata": {},
   "source": [
    "Q3. Why is it essential to print a legend on a stock market chart ?\n",
    "sol. Legend will help comparison between different stocks, so will be essential on a stock market chart"
   ]
  },
  {
   "cell_type": "markdown",
   "id": "3c0ea24c",
   "metadata": {},
   "source": [
    "Q4. What is the best way to limit the length of a pandas data frame to less than a year ?\n",
    "sol.  We can use start and end parameters for that. In start we write the date from where we are starting and at the end we write the end date. SO within this span we can restric the duration.Also we can use the parameters like periods for how much times we need the duration and we can also use the frequency parameter."
   ]
  },
  {
   "cell_type": "markdown",
   "id": "5dd1f7ea",
   "metadata": {},
   "source": [
    "Q5. What is the definition of a 180-day moving average ?\n",
    "sol. The 180-day moving average is represented as a line on charts and represents the average price over the past 180 days. The moving average can give traders a sense regarding whether the trend is up or down, while also identifying potential support or resistance areas."
   ]
  }
 ],
 "metadata": {
  "kernelspec": {
   "display_name": "Python 3 (ipykernel)",
   "language": "python",
   "name": "python3"
  },
  "language_info": {
   "codemirror_mode": {
    "name": "ipython",
    "version": 3
   },
   "file_extension": ".py",
   "mimetype": "text/x-python",
   "name": "python",
   "nbconvert_exporter": "python",
   "pygments_lexer": "ipython3",
   "version": "3.9.7"
  }
 },
 "nbformat": 4,
 "nbformat_minor": 5
}
